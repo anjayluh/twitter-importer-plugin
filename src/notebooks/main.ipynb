{
 "cells": [
  {
   "cell_type": "code",
   "execution_count": 1,
   "metadata": {},
   "outputs": [],
   "source": [
    "import sys\n",
    "import os\n",
    "sys.path.append(os.path.abspath('../modules'))\n",
    "sys.path.append(os.path.abspath('../'))\n",
    "import twitter_importer\n",
    "import authenticate_developer\n",
    "import settings\n"
   ]
  },
  {
   "cell_type": "markdown",
   "metadata": {},
   "source": [
    "Add your authentication credentials from your twitter developer account"
   ]
  },
  {
   "cell_type": "markdown",
   "metadata": {},
   "source": [
    "Client credentials:\n",
    "\n",
    "    App Key === API Key === Consumer API Key === Consumer Key === Customer Key === oauth_consumer_key\n",
    "    App Key Secret === API Secret Key === Consumer Secret === Consumer Key === Customer Key === oauth_consumer_secret\n",
    "    Callback URL === oauth_callback\n",
    "     \n",
    "\n",
    "Token credentials:\n",
    "\n",
    "    Access token === Token === resulting oauth_token\n",
    "    Access token secret === Token Secret === resulting oauth_token_secret"
   ]
  },
  {
   "cell_type": "code",
   "execution_count": null,
   "metadata": {},
   "outputs": [],
   "source": []
  },
  {
   "cell_type": "markdown",
   "metadata": {},
   "source": [
    "Set up api instance"
   ]
  },
  {
   "cell_type": "code",
   "execution_count": 2,
   "metadata": {},
   "outputs": [],
   "source": [
    "authenticate = authenticate_developer.Authenticate(settings.ACCESS_TOKEN, settings.ACCESS_SECRET, settings.CONSUMER_KEY, settings.CONSUMER_SECRET)"
   ]
  },
  {
   "cell_type": "markdown",
   "metadata": {},
   "source": [
    "Connect to twitter"
   ]
  },
  {
   "cell_type": "code",
   "execution_count": 4,
   "metadata": {
    "scrolled": true
   },
   "outputs": [
    {
     "ename": "Exception",
     "evalue": "The user credentials are invalid.",
     "output_type": "error",
     "traceback": [
      "\u001b[1;31m---------------------------------------------------------------------------\u001b[0m",
      "\u001b[1;31mException\u001b[0m                                 Traceback (most recent call last)",
      "\u001b[1;32m<ipython-input-4-629a55c57ace>\u001b[0m in \u001b[0;36m<module>\u001b[1;34m\u001b[0m\n\u001b[1;32m----> 1\u001b[1;33m \u001b[0mapi\u001b[0m \u001b[1;33m=\u001b[0m \u001b[0mauthenticate\u001b[0m\u001b[1;33m.\u001b[0m\u001b[0mconnect_to_twitter_OAuth\u001b[0m\u001b[1;33m(\u001b[0m\u001b[1;33m)\u001b[0m\u001b[1;33m\u001b[0m\u001b[1;33m\u001b[0m\u001b[0m\n\u001b[0m\u001b[0;32m      2\u001b[0m \u001b[0mprint\u001b[0m\u001b[1;33m(\u001b[0m\u001b[0mapi\u001b[0m\u001b[1;33m)\u001b[0m\u001b[1;33m\u001b[0m\u001b[1;33m\u001b[0m\u001b[0m\n",
      "\u001b[1;32m~\\Desktop\\hustle\\twitter-importer-plugin\\src\\modules\\authenticate_developer.py\u001b[0m in \u001b[0;36mconnect_to_twitter_OAuth\u001b[1;34m(self)\u001b[0m\n\u001b[0;32m     54\u001b[0m         \u001b[0mapi\u001b[0m \u001b[1;33m=\u001b[0m \u001b[0mtweepy\u001b[0m\u001b[1;33m.\u001b[0m\u001b[0mAPI\u001b[0m\u001b[1;33m(\u001b[0m\u001b[0mauth\u001b[0m\u001b[1;33m)\u001b[0m\u001b[1;33m\u001b[0m\u001b[1;33m\u001b[0m\u001b[0m\n\u001b[0;32m     55\u001b[0m         \u001b[1;32mif\u001b[0m \u001b[0mapi\u001b[0m\u001b[1;33m.\u001b[0m\u001b[0mverify_credentials\u001b[0m\u001b[1;33m(\u001b[0m\u001b[1;33m)\u001b[0m \u001b[1;33m==\u001b[0m \u001b[1;32mFalse\u001b[0m\u001b[1;33m:\u001b[0m\u001b[1;33m\u001b[0m\u001b[1;33m\u001b[0m\u001b[0m\n\u001b[1;32m---> 56\u001b[1;33m             \u001b[1;32mraise\u001b[0m \u001b[0mException\u001b[0m\u001b[1;33m(\u001b[0m\u001b[1;34m\"The user credentials are invalid.\"\u001b[0m\u001b[1;33m)\u001b[0m\u001b[1;33m\u001b[0m\u001b[1;33m\u001b[0m\u001b[0m\n\u001b[0m\u001b[0;32m     57\u001b[0m         \u001b[1;32mreturn\u001b[0m \u001b[0mapi\u001b[0m\u001b[1;33m\u001b[0m\u001b[1;33m\u001b[0m\u001b[0m\n\u001b[0;32m     58\u001b[0m \u001b[1;33m\u001b[0m\u001b[0m\n",
      "\u001b[1;31mException\u001b[0m: The user credentials are invalid."
     ]
    }
   ],
   "source": [
    "api = authenticate.connect_to_twitter_OAuth()\n",
    "print(api)"
   ]
  },
  {
   "cell_type": "markdown",
   "metadata": {},
   "source": [
    "Create importer instance. Enter a user handle from which you want to import data e.g realdonaldtrump"
   ]
  },
  {
   "cell_type": "code",
   "execution_count": 34,
   "metadata": {},
   "outputs": [
    {
     "ename": "AttributeError",
     "evalue": "'TwitterImporter' object has no attribute 'TwitterImporter'",
     "output_type": "error",
     "traceback": [
      "\u001b[0;31m---------------------------------------------------------------------------\u001b[0m",
      "\u001b[0;31mAttributeError\u001b[0m                            Traceback (most recent call last)",
      "\u001b[0;32m<ipython-input-34-1ace9f5b07d3>\u001b[0m in \u001b[0;36m<module>\u001b[0;34m\u001b[0m\n\u001b[0;32m----> 1\u001b[0;31m \u001b[0mtwitter_importer\u001b[0m \u001b[0;34m=\u001b[0m \u001b[0mtwitter_importer\u001b[0m\u001b[0;34m.\u001b[0m\u001b[0mTwitterImporter\u001b[0m\u001b[0;34m(\u001b[0m\u001b[0mapi\u001b[0m\u001b[0;34m,\u001b[0m \u001b[0;34m'user_handle'\u001b[0m\u001b[0;34m)\u001b[0m\u001b[0;34m\u001b[0m\u001b[0;34m\u001b[0m\u001b[0m\n\u001b[0m",
      "\u001b[0;31mAttributeError\u001b[0m: 'TwitterImporter' object has no attribute 'TwitterImporter'"
     ]
    }
   ],
   "source": [
    "twitter_importer = twitter_importer.TwitterImporter(api, 'user_handle')"
   ]
  },
  {
   "cell_type": "markdown",
   "metadata": {},
   "source": [
    "Get followers of a given user"
   ]
  },
  {
   "cell_type": "code",
   "execution_count": 36,
   "metadata": {},
   "outputs": [
    {
     "ename": "AttributeError",
     "evalue": "'NoneType' object has no attribute 'followers'",
     "output_type": "error",
     "traceback": [
      "\u001b[0;31m---------------------------------------------------------------------------\u001b[0m",
      "\u001b[0;31mAttributeError\u001b[0m                            Traceback (most recent call last)",
      "\u001b[0;32m<ipython-input-36-072ce4d85f09>\u001b[0m in \u001b[0;36m<module>\u001b[0;34m\u001b[0m\n\u001b[0;32m----> 1\u001b[0;31m \u001b[0mfollowers\u001b[0m \u001b[0;34m=\u001b[0m \u001b[0mtwitter_importer\u001b[0m\u001b[0;34m.\u001b[0m\u001b[0mimport_followers\u001b[0m\u001b[0;34m(\u001b[0m\u001b[0;34m)\u001b[0m\u001b[0;34m\u001b[0m\u001b[0;34m\u001b[0m\u001b[0m\n\u001b[0m",
      "\u001b[0;32m~/Desktop/twitter-plugin/src/modules/twitter_importer.py\u001b[0m in \u001b[0;36mimport_followers\u001b[0;34m(self, limit)\u001b[0m\n\u001b[1;32m     42\u001b[0m         \u001b[0mmax_limit\u001b[0m \u001b[0;34m=\u001b[0m \u001b[0mlimit\u001b[0m \u001b[0;32mif\u001b[0m \u001b[0mlimit\u001b[0m \u001b[0;32mand\u001b[0m \u001b[0mlimit\u001b[0m \u001b[0;34m>\u001b[0m \u001b[0;36m0\u001b[0m \u001b[0;32mand\u001b[0m \u001b[0mlimit\u001b[0m \u001b[0;34m<=\u001b[0m \u001b[0;36m200\u001b[0m \u001b[0;32melse\u001b[0m \u001b[0;36m200\u001b[0m\u001b[0;34m\u001b[0m\u001b[0;34m\u001b[0m\u001b[0m\n\u001b[1;32m     43\u001b[0m         followers = tweepy.Cursor(\n\u001b[0;32m---> 44\u001b[0;31m             self.api.followers, self.user_handle).items(max_limit)\n\u001b[0m\u001b[1;32m     45\u001b[0m         \u001b[0;32mreturn\u001b[0m \u001b[0mfollowers\u001b[0m\u001b[0;34m\u001b[0m\u001b[0;34m\u001b[0m\u001b[0m\n\u001b[1;32m     46\u001b[0m \u001b[0;34m\u001b[0m\u001b[0m\n",
      "\u001b[0;31mAttributeError\u001b[0m: 'NoneType' object has no attribute 'followers'"
     ]
    }
   ],
   "source": [
    "followers = twitter_importer.import_followers()"
   ]
  },
  {
   "cell_type": "code",
   "execution_count": null,
   "metadata": {},
   "outputs": [],
   "source": [
    "# Print out items\n",
    "# for item in followers:\n",
    "#     print (item)"
   ]
  },
  {
   "cell_type": "markdown",
   "metadata": {},
   "source": [
    "Get followings of a given user"
   ]
  },
  {
   "cell_type": "code",
   "execution_count": null,
   "metadata": {},
   "outputs": [],
   "source": [
    "followings = twitter_importer.import_followings()"
   ]
  },
  {
   "cell_type": "code",
   "execution_count": null,
   "metadata": {},
   "outputs": [],
   "source": [
    "# # Print out items\n",
    "# for item in followings:\n",
    "#     print (item)"
   ]
  },
  {
   "cell_type": "markdown",
   "metadata": {},
   "source": [
    "Get tweets for a given user timeline, user and friends tweets"
   ]
  },
  {
   "cell_type": "code",
   "execution_count": null,
   "metadata": {},
   "outputs": [],
   "source": [
    "# User and followings tweets\n",
    "user_tweets = twitter_importer.import_user_tweets()\n"
   ]
  },
  {
   "cell_type": "markdown",
   "metadata": {},
   "source": [
    "Extract tweets to data frame"
   ]
  },
  {
   "cell_type": "code",
   "execution_count": null,
   "metadata": {},
   "outputs": [],
   "source": [
    "def extract_tweet_attributes(tweet_object):\n",
    "    # create empty list\n",
    "    tweet_list =[]\n",
    "#     loop through tweet objects\n",
    "    for tweet in tweet_object:\n",
    "        tweet_id = tweet.id # unique integer identifier for tweet\n",
    "        full_text = tweet.full_text # utf-8 text of tweet\n",
    "        favorite_count = tweet.favorite_count\n",
    "        retweet_count = tweet.retweet_count\n",
    "        created_at = tweet.created_at # utc time tweet created\n",
    "        source = tweet.source # utility used to post tweet\n",
    "        reply_to_status = tweet.in_reply_to_status_id # if reply int of orginal tweet id\n",
    "        reply_to_user = tweet.in_reply_to_screen_name # if reply original tweetes screenname\n",
    "        retweets = tweet.retweet_count # number of times this tweet retweeted\n",
    "        favorites = tweet.favorite_count # number of time this tweet liked\n",
    "        # append attributes to list\n",
    "        tweet_list.append({'tweet_id':tweet_id, \n",
    "                          'full_text':full_text, \n",
    "                          'favorite_count':favorite_count,\n",
    "                          'retweet_count':retweet_count,\n",
    "                          'created_at':created_at, \n",
    "                          'source':source, \n",
    "                          'reply_to_status':reply_to_status, \n",
    "                          'reply_to_user':reply_to_user,\n",
    "                          'retweets':retweets,\n",
    "                          'favorites':favorites})\n",
    "    # create dataframe   \n",
    "    df = pd.DataFrame(tweet_list, columns=['tweet_id',\n",
    "                                           'full_text',\n",
    "                                           'favorite_count',\n",
    "                                           'retweet_count',\n",
    "                                           'created_at',\n",
    "                                           'source',\n",
    "                                           'reply_to_status',\n",
    "                                           'reply_to_user',\n",
    "                                           'retweets',\n",
    "                                           'favorites'])\n",
    "    return df\n",
    "\n",
    "\n",
    "user_retweets_file = extract_tweet_attributes(user_tweets)"
   ]
  },
  {
   "cell_type": "code",
   "execution_count": null,
   "metadata": {},
   "outputs": [],
   "source": [
    "print(user_retweets_file)"
   ]
  },
  {
   "cell_type": "markdown",
   "metadata": {},
   "source": [
    "Get tweets for a given user"
   ]
  },
  {
   "cell_type": "code",
   "execution_count": null,
   "metadata": {},
   "outputs": [],
   "source": []
  }
 ],
 "metadata": {
  "kernelspec": {
   "display_name": "Python 3",
   "language": "python",
   "name": "python3"
  },
  "language_info": {
   "codemirror_mode": {
    "name": "ipython",
    "version": 3
   },
   "file_extension": ".py",
   "mimetype": "text/x-python",
   "name": "python",
   "nbconvert_exporter": "python",
   "pygments_lexer": "ipython3",
   "version": "3.8.5"
  }
 },
 "nbformat": 4,
 "nbformat_minor": 2
}
