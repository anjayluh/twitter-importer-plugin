{
 "cells": [
  {
   "cell_type": "markdown",
   "metadata": {},
   "source": [
    "# Authentication!\n",
    "\n",
    "Set up your twitter developer account and get your app authentiction details [here](https://developer.twitter.com/)"
   ]
  },
  {
   "cell_type": "markdown",
   "metadata": {},
   "source": [
    "Install and import tweepy. In case of trouble installing tweepy, uncomment the next line"
   ]
  },
  {
   "cell_type": "code",
   "execution_count": 1,
   "metadata": {},
   "outputs": [],
   "source": [
    "# !conda install -c conda-forge tweepy\n",
    "import tweepy as tweepy"
   ]
  },
  {
   "cell_type": "markdown",
   "metadata": {},
   "source": [
    "Import pandas to be able to extract data into data frames"
   ]
  },
  {
   "cell_type": "code",
   "execution_count": null,
   "metadata": {},
   "outputs": [],
   "source": [
    "import pandas as pd"
   ]
  },
  {
   "cell_type": "markdown",
   "metadata": {},
   "source": [
    "Add your authentication credentials from your twitter developer account"
   ]
  },
  {
   "cell_type": "markdown",
   "metadata": {},
   "source": [
    "Client credentials:\n",
    "\n",
    "    App Key === API Key === Consumer API Key === Consumer Key === Customer Key === oauth_consumer_key\n",
    "    App Key Secret === API Secret Key === Consumer Secret === Consumer Key === Customer Key === oauth_consumer_secret\n",
    "    Callback URL === oauth_callback\n",
    "     \n",
    "\n",
    "Token credentials:\n",
    "\n",
    "    Access token === Token === resulting oauth_token\n",
    "    Access token secret === Token Secret === resulting oauth_token_secret"
   ]
  },
  {
   "cell_type": "code",
   "execution_count": 4,
   "metadata": {},
   "outputs": [],
   "source": [
    "ACCESS_TOKEN = '2153061984-GVSv4Qbr0FRTK3Q1lLuUL0XBS5P32cu2ptDrlZS'\n",
    "ACCESS_SECRET = 'ZTam6Q0vf3Guq5uxWBW4zMGGnBK5L4KmcmjhHX9fChGGE'\n",
    "CONSUMER_KEY = 'YaTl6ty1XVrsdMuaYoWZyMNBO'\n",
    "CONSUMER_SECRET = 'vtvcEKJSlsvfpKvgO9b4UTctq7vvOBnZYd4nt0Ocffpp55XWhR'"
   ]
  },
  {
   "cell_type": "markdown",
   "metadata": {},
   "source": [
    "Class to set up access to api"
   ]
  },
  {
   "cell_type": "code",
   "execution_count": 5,
   "metadata": {},
   "outputs": [],
   "source": [
    "class Authenticate:\n",
    "    def __init__(self, access_token, access_secret, consumer_key, consumer_secret):\n",
    "        self.access_token = access_token\n",
    "        self.access_secret = access_secret\n",
    "        self.consumer_key = consumer_key\n",
    "        self.consumer_secret = consumer_secret\n",
    "\n",
    "    def connect_to_twitter_OAuth(self):\n",
    "        auth = tweepy.OAuthHandler(self.consumer_key, self.consumer_secret)\n",
    "        auth.set_access_token(self.access_token, self.access_secret)\n",
    "        api = tweepy.API(auth)\n",
    "        if api.verify_credentials() == False:\n",
    "            raise Exception(\"The user credentials are invalid.\")\n",
    "        return api\n"
   ]
  },
  {
   "cell_type": "markdown",
   "metadata": {},
   "source": [
    "Set up api instance"
   ]
  },
  {
   "cell_type": "code",
   "execution_count": 6,
   "metadata": {
    "scrolled": true
   },
   "outputs": [],
   "source": [
    "authenticate = Authenticate(ACCESS_TOKEN, ACCESS_SECRET, CONSUMER_KEY, CONSUMER_SECRET)\n",
    "api = authenticate.connect_to_twitter_OAuth()\n",
    "# print(api)"
   ]
  },
  {
   "cell_type": "code",
   "execution_count": null,
   "metadata": {},
   "outputs": [],
   "source": []
  }
 ],
 "metadata": {
  "kernelspec": {
   "display_name": "Python 3",
   "language": "python",
   "name": "python3"
  },
  "language_info": {
   "codemirror_mode": {
    "name": "ipython",
    "version": 3
   },
   "file_extension": ".py",
   "mimetype": "text/x-python",
   "name": "python",
   "nbconvert_exporter": "python",
   "pygments_lexer": "ipython3",
   "version": "3.8.5"
  }
 },
 "nbformat": 4,
 "nbformat_minor": 4
}
