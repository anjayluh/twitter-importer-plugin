{
 "cells": [
  {
   "cell_type": "markdown",
   "metadata": {},
   "source": [
    "\n",
    "# This is the twitter import data plugin!\n",
    "\n",
    "You can fetch followers and following, tweets and retweets, direct messages **twitter-developer**."
   ]
  },
  {
   "cell_type": "code",
   "execution_count": null,
   "metadata": {},
   "outputs": [],
   "source": [
    "import pandas as pd"
   ]
  },
  {
   "cell_type": "markdown",
   "metadata": {},
   "source": [
    "Class for importing the various data from a user handle"
   ]
  },
  {
   "cell_type": "code",
   "execution_count": 114,
   "metadata": {},
   "outputs": [],
   "source": [
    "class TwitterImporter:\n",
    "    def __init__(self, user_handle):\n",
    "        self.user_handle = user_handle\n",
    "\n",
    "    def import_followers(self, limit=None):\n",
    "        max_limit = limit if limit and limit > 100 and limit <= 1000 else 200\n",
    "        followers = tweepy.Cursor(api.followers, user_handle).items(max_limit)\n",
    "        return followers\n",
    "\n",
    "    def import_followings(self, limit=None):\n",
    "        max_limit = limit if limit and limit > 100 and limit <= 1000 else 200\n",
    "        followings = tweepy.Cursor(api.friends, user_handle).items(max_limit)\n",
    "        return followings\n",
    "\n",
    "    def import_user_tweets(self, limit=None):\n",
    "        max_limit = limit if limit and limit > 100 and limit <= 1000 else 200\n",
    "        user_tweets = tweepy.Cursor(api.user_timeline, tweet_mode='extended').items(max_limit)\n",
    "        return user_tweets\n"
   ]
  }
 ],
 "metadata": {
  "kernelspec": {
   "display_name": "Python 3",
   "language": "python",
   "name": "python3"
  },
  "language_info": {
   "codemirror_mode": {
    "name": "ipython",
    "version": 3
   },
   "file_extension": ".py",
   "mimetype": "text/x-python",
   "name": "python",
   "nbconvert_exporter": "python",
   "pygments_lexer": "ipython3",
   "version": "3.8.5"
  }
 },
 "nbformat": 4,
 "nbformat_minor": 4
}
